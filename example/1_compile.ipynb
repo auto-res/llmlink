{
 "cells": [
  {
   "cell_type": "code",
   "execution_count": 2,
   "id": "2668dbf1-2ce3-46ba-ad2e-6b46479abc9b",
   "metadata": {},
   "outputs": [],
   "source": [
    "from llmlinks.link import LLMLink\n",
    "from llmlinks.llm_client import LLMClient\n",
    "from llmlinks.compiler import LLMCompiler, CompiledLLMLink"
   ]
  },
  {
   "cell_type": "code",
   "execution_count": 3,
   "id": "9b427cb8-c28c-417d-8647-1d7448b153d2",
   "metadata": {},
   "outputs": [
    {
     "name": "stdout",
     "output_type": "stream",
     "text": [
      "こんにちは！今日はどのようなご質問がありますか？\n"
     ]
    }
   ],
   "source": [
    "#llm_name = 'claude-3-5-sonnet-20240620'\n",
    "llm_name = 'gpt-4o-2024-08-06'\n",
    "#llm_name = 'gemini-1.5-pro'\n",
    "\n",
    "llm = LLMClient(llm_name)\n",
    "response = llm('こんにちわ')\n",
    "print(response)"
   ]
  },
  {
   "cell_type": "code",
   "execution_count": 4,
   "id": "2afd2a8e-32a3-42d1-96bb-a6074612ed37",
   "metadata": {},
   "outputs": [],
   "source": [
    "compiler = LLMCompiler(llm)"
   ]
  },
  {
   "cell_type": "code",
   "execution_count": 5,
   "id": "e5bbeadc-8d7b-4108-8b7a-d53b5be09cc0",
   "metadata": {},
   "outputs": [],
   "source": [
    "source = \"\"\"数学の問題を解くpythonプログラムを書く。\n",
    "\n",
    "問題についてじっくり考えたうえで、その思考過程と、対応するプログラムを書く。\n",
    "\n",
    "Args:\n",
    "    problem (str): 解くべき問題。\n",
    "\n",
    "Returns:\n",
    "    thought (str): 問題を解くために考えたこと。\n",
    "    python (str): pythonプログラム。\n",
    "\"\"\"\n",
    "\n",
    "compiled = compiler.compile(source)"
   ]
  },
  {
   "cell_type": "code",
   "execution_count": 6,
   "id": "0b780ad4-42f3-4d13-944d-02edb3af441f",
   "metadata": {},
   "outputs": [
    {
     "name": "stdout",
     "output_type": "stream",
     "text": [
      "source = \"\"\"\n",
      "数学の問題を解くpythonプログラムを書く。\n",
      "\n",
      "問題についてじっくり考えたうえで、その思考過程と、対応するプログラムを書く。\n",
      "\n",
      "Args:\n",
      "    problem (str): 解くべき問題。\n",
      "\n",
      "Returns:\n",
      "    thought (str): 問題を解くために考えたこと。\n",
      "    python (str): pythonプログラム。\n",
      "\"\"\"\n",
      "prompt_template = \"\"\"\n",
      "<RULE>\n",
      "All texts must be formatted in XML format. XML element ::= <tag attribute=\\\"value\\\">content</tag>\n",
      "Tags determine the meaning and function of the content. The content must not contradict the definition of the tag.\n",
      "</RULE>\n",
      "\n",
      "<TAG name=\\\"RULE\\\">\n",
      "This tag defines rules. The defined content is absolute.\n",
      "</TAG>\n",
      "\n",
      "<TAG name=\\\"TAG\\\">\n",
      "This tag defines a tag. The defined content is absolute.\n",
      "Attributes:\n",
      "    - name : A tag name.\n",
      "</TAG>\n",
      "\n",
      "<TAG name=\\\"THINK\\\">\n",
      "This tag is used to describe the thought process.\n",
      "The thought process must be described in detail step-by-step.\n",
      "Attributes:\n",
      "    - label (optional) : A label summarizing the contents.\n",
      "</TAG>\n",
      "\n",
      "<TAG name=\\\"LIST\\\">\n",
      "This tag is used to describe a collection of the same XML elements.\n",
      "Multiple identical tags are included within this tag.\n",
      "Two or more types of tags must not exist within the LIST tag.\n",
      "<EXAMPLE>\n",
      "<LIST>\n",
      "<ELEMENT>content1</ELEMENT>\n",
      "<ELEMENT>content2</ELEMENT>\n",
      "<ELEMENT>content3</ELEMENT>\n",
      "</LIST>\n",
      "</EXAMPLE>\n",
      "</TAG>\n",
      "\n",
      "<TAG name=\\\"EXAMPLE\\\">\n",
      "This tag describes an example.\n",
      "The content described within this tag does not affect anything outside this tag.\n",
      "For example, tags defined within the EXAMPLE tag are invalid outside the tag.\n",
      "</TAG>\n",
      "\n",
      "<TAG name=\\\"PROCESS\\\">\n",
      "This tag describes the information processing process.\n",
      "The assistant must perform information processing according to the content of this tag.\n",
      "</PROCESS>\n",
      "\n",
      "<RULE role=\\\"assistant\\\">\n",
      "The assistant must perform information processing according to the flow described in the PROCESS and output the necessary tags and their contents.\n",
      "</RULE>\n",
      "\n",
      "<TAG name=\\\"PROBLEM\\\">\n",
      "This tag describes the mathematical problem to be solved.\n",
      "</TAG>\n",
      "\n",
      "<TAG name=\\\"PYTHON\\\">\n",
      "This tag describes a Python program to solve the problem.\n",
      "</TAG>\n",
      "\n",
      "<PROCESS>\n",
      "1. Understand the mathematical problem presented within the PROBLEM tag.\n",
      "2. Think through the steps and necessary calculations needed to solve the problem, documenting the process within the THINK tag.\n",
      "3. Draft a Python program that implements the solution step-by-step as described in step 2, and store it within the PYTHON tag.\n",
      "</PROCESS>\"\"\"\n",
      "\n",
      "[input_tags]\n",
      "problem = \"PROBLEM\"\n",
      "\n",
      "[output_tags]\n",
      "thought = \"THINK\"\n",
      "python = \"PYTHON\"\n",
      "\n"
     ]
    }
   ],
   "source": [
    "# プロンプトや必要な情報がtoml形式で記述される。\n",
    "print(compiled)"
   ]
  },
  {
   "cell_type": "code",
   "execution_count": 7,
   "id": "38ec1f5e-e3d6-452a-80df-28173e8642c4",
   "metadata": {},
   "outputs": [],
   "source": [
    "# CompiledLLMLink := compiler が吐き出す toml に対応した LLMLink\n",
    "func = CompiledLLMLink(llm, compiled)"
   ]
  },
  {
   "cell_type": "code",
   "execution_count": 8,
   "id": "1893b567-b2bd-424f-a462-53792beb4ee3",
   "metadata": {},
   "outputs": [
    {
     "data": {
      "text/plain": [
       "\u001b[0;31mSignature:\u001b[0m       \u001b[0mfunc\u001b[0m\u001b[0;34m(\u001b[0m\u001b[0;34m*\u001b[0m\u001b[0margs\u001b[0m\u001b[0;34m,\u001b[0m \u001b[0;34m**\u001b[0m\u001b[0mkwargs\u001b[0m\u001b[0;34m)\u001b[0m\u001b[0;34m\u001b[0m\u001b[0;34m\u001b[0m\u001b[0m\n",
       "\u001b[0;31mType:\u001b[0m            CompiledLLMLink\n",
       "\u001b[0;31mString form:\u001b[0m     <llmlinks.compiler.CompiledLLMLink object at 0x7f8160683350>\n",
       "\u001b[0;31mFile:\u001b[0m            ~/projects/AutoRes/lib/llmlink/llmlinks/compiler.py\n",
       "\u001b[0;31mDocstring:\u001b[0m      \n",
       "数学の問題を解くpythonプログラムを書く。\n",
       "\n",
       "問題についてじっくり考えたうえで、その思考過程と、対応するプログラムを書く。\n",
       "\n",
       "Args:\n",
       "    problem (str): 解くべき問題。\n",
       "\n",
       "Returns:\n",
       "    thought (str): 問題を解くために考えたこと。\n",
       "    python (str): pythonプログラム。\n",
       "\u001b[0;31mClass docstring:\u001b[0m\n",
       "LLMLinkの基底クラス\n",
       "    "
      ]
     },
     "metadata": {},
     "output_type": "display_data"
    }
   ],
   "source": [
    "# docstring を見れば使い方がわかる\n",
    "func?"
   ]
  },
  {
   "cell_type": "code",
   "execution_count": 9,
   "id": "8dda6453-c971-4c58-857f-015518d8b0a1",
   "metadata": {},
   "outputs": [],
   "source": [
    "outputs = func(problem=['1+1=?', '2+3=?'])"
   ]
  },
  {
   "cell_type": "code",
   "execution_count": 10,
   "id": "18f7255b-43a6-4a09-9c9a-d4e21e939f2a",
   "metadata": {},
   "outputs": [
    {
     "name": "stdout",
     "output_type": "stream",
     "text": [
      "The mathematical problem 1+1=? is a simple addition problem.\n",
      "Step 1: Identify the numbers to be added, which are 1 and 1.\n",
      "Step 2: Perform the addition operation by summing these numbers.\n",
      "Step 3: The result of adding 1 and 1 is 2.\n"
     ]
    }
   ],
   "source": [
    "print(outputs['thought'][0])"
   ]
  },
  {
   "cell_type": "code",
   "execution_count": 11,
   "id": "273a6dd0-53fd-4b9e-86c1-44d87e058b8b",
   "metadata": {},
   "outputs": [
    {
     "name": "stdout",
     "output_type": "stream",
     "text": [
      "# Python program to solve 1+1\n",
      "result = 1 + 1\n",
      "print(result)  # Expected output: 2\n"
     ]
    }
   ],
   "source": [
    "print(outputs['python'][0])"
   ]
  },
  {
   "cell_type": "code",
   "execution_count": 12,
   "id": "9b9b7ace-80cf-4fe5-a898-d0f1ba8476e5",
   "metadata": {},
   "outputs": [
    {
     "name": "stdout",
     "output_type": "stream",
     "text": [
      "# Python program to solve 2+3\n",
      "result = 2 + 3\n",
      "print(result)  # Expected output: 5\n"
     ]
    }
   ],
   "source": [
    "print(outputs['python'][1])"
   ]
  },
  {
   "cell_type": "code",
   "execution_count": null,
   "id": "615171bb-f556-4796-9dbf-b07618f5b520",
   "metadata": {},
   "outputs": [],
   "source": []
  }
 ],
 "metadata": {
  "kernelspec": {
   "display_name": "Python 3 (ipykernel)",
   "language": "python",
   "name": "python3"
  },
  "language_info": {
   "codemirror_mode": {
    "name": "ipython",
    "version": 3
   },
   "file_extension": ".py",
   "mimetype": "text/x-python",
   "name": "python",
   "nbconvert_exporter": "python",
   "pygments_lexer": "ipython3",
   "version": "3.11.3"
  }
 },
 "nbformat": 4,
 "nbformat_minor": 5
}
