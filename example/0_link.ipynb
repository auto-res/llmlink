{
 "cells": [
  {
   "cell_type": "code",
   "execution_count": 2,
   "metadata": {},
   "outputs": [
    {
     "name": "stdout",
     "output_type": "stream",
     "text": [
      "Requirement already satisfied: llmlinks in /home/ryutaro/.local/lib/python3.11/site-packages (0.1.14)\n",
      "Requirement already satisfied: anthropic<0.34.0,>=0.33.0 in /home/ryutaro/.local/lib/python3.11/site-packages (from llmlinks) (0.33.1)\n",
      "Requirement already satisfied: google-generativeai<0.8.0,>=0.7.2 in /home/ryutaro/.local/lib/python3.11/site-packages (from llmlinks) (0.7.2)\n",
      "Requirement already satisfied: openai<2.0.0,>=1.35.13 in /home/ryutaro/.local/lib/python3.11/site-packages (from llmlinks) (1.42.0)\n",
      "Requirement already satisfied: anyio<5,>=3.5.0 in /home/ryutaro/.local/lib/python3.11/site-packages (from anthropic<0.34.0,>=0.33.0->llmlinks) (3.6.2)\n",
      "Requirement already satisfied: distro<2,>=1.7.0 in /home/ryutaro/.local/lib/python3.11/site-packages (from anthropic<0.34.0,>=0.33.0->llmlinks) (1.9.0)\n",
      "Requirement already satisfied: httpx<1,>=0.23.0 in /home/ryutaro/.local/lib/python3.11/site-packages (from anthropic<0.34.0,>=0.33.0->llmlinks) (0.27.0)\n",
      "Requirement already satisfied: jiter<1,>=0.4.0 in /home/ryutaro/.local/lib/python3.11/site-packages (from anthropic<0.34.0,>=0.33.0->llmlinks) (0.5.0)\n",
      "Requirement already satisfied: pydantic<3,>=1.9.0 in /home/ryutaro/.local/lib/python3.11/site-packages (from anthropic<0.34.0,>=0.33.0->llmlinks) (2.8.2)\n",
      "Requirement already satisfied: sniffio in /home/ryutaro/.local/lib/python3.11/site-packages (from anthropic<0.34.0,>=0.33.0->llmlinks) (1.3.0)\n",
      "Requirement already satisfied: tokenizers>=0.13.0 in /home/ryutaro/.local/lib/python3.11/site-packages (from anthropic<0.34.0,>=0.33.0->llmlinks) (0.20.0)\n",
      "Requirement already satisfied: typing-extensions<5,>=4.7 in /home/ryutaro/.local/lib/python3.11/site-packages (from anthropic<0.34.0,>=0.33.0->llmlinks) (4.12.2)\n",
      "Requirement already satisfied: google-ai-generativelanguage==0.6.6 in /home/ryutaro/.local/lib/python3.11/site-packages (from google-generativeai<0.8.0,>=0.7.2->llmlinks) (0.6.6)\n",
      "Requirement already satisfied: google-api-core in /home/ryutaro/.local/lib/python3.11/site-packages (from google-generativeai<0.8.0,>=0.7.2->llmlinks) (2.19.1)\n",
      "Requirement already satisfied: google-api-python-client in /home/ryutaro/.local/lib/python3.11/site-packages (from google-generativeai<0.8.0,>=0.7.2->llmlinks) (2.142.0)\n",
      "Requirement already satisfied: google-auth>=2.15.0 in /home/ryutaro/.local/lib/python3.11/site-packages (from google-generativeai<0.8.0,>=0.7.2->llmlinks) (2.34.0)\n",
      "Requirement already satisfied: protobuf in /home/ryutaro/.local/lib/python3.11/site-packages (from google-generativeai<0.8.0,>=0.7.2->llmlinks) (4.25.4)\n",
      "Requirement already satisfied: tqdm in /home/ryutaro/.local/lib/python3.11/site-packages (from google-generativeai<0.8.0,>=0.7.2->llmlinks) (4.65.0)\n",
      "Requirement already satisfied: proto-plus<2.0.0dev,>=1.22.3 in /home/ryutaro/.local/lib/python3.11/site-packages (from google-ai-generativelanguage==0.6.6->google-generativeai<0.8.0,>=0.7.2->llmlinks) (1.24.0)\n",
      "Requirement already satisfied: idna>=2.8 in /home/ryutaro/.local/lib/python3.11/site-packages (from anyio<5,>=3.5.0->anthropic<0.34.0,>=0.33.0->llmlinks) (3.4)\n",
      "Requirement already satisfied: googleapis-common-protos<2.0.dev0,>=1.56.2 in /home/ryutaro/.local/lib/python3.11/site-packages (from google-api-core->google-generativeai<0.8.0,>=0.7.2->llmlinks) (1.63.2)\n",
      "Requirement already satisfied: requests<3.0.0.dev0,>=2.18.0 in /home/ryutaro/.local/lib/python3.11/site-packages (from google-api-core->google-generativeai<0.8.0,>=0.7.2->llmlinks) (2.32.3)\n",
      "Requirement already satisfied: cachetools<6.0,>=2.0.0 in /home/ryutaro/.local/lib/python3.11/site-packages (from google-auth>=2.15.0->google-generativeai<0.8.0,>=0.7.2->llmlinks) (5.5.0)\n",
      "Requirement already satisfied: pyasn1-modules>=0.2.1 in /home/ryutaro/.local/lib/python3.11/site-packages (from google-auth>=2.15.0->google-generativeai<0.8.0,>=0.7.2->llmlinks) (0.4.0)\n",
      "Requirement already satisfied: rsa<5,>=3.1.4 in /home/ryutaro/.local/lib/python3.11/site-packages (from google-auth>=2.15.0->google-generativeai<0.8.0,>=0.7.2->llmlinks) (4.9)\n",
      "Requirement already satisfied: certifi in /home/ryutaro/.local/lib/python3.11/site-packages (from httpx<1,>=0.23.0->anthropic<0.34.0,>=0.33.0->llmlinks) (2023.5.7)\n",
      "Requirement already satisfied: httpcore==1.* in /home/ryutaro/.local/lib/python3.11/site-packages (from httpx<1,>=0.23.0->anthropic<0.34.0,>=0.33.0->llmlinks) (1.0.5)\n",
      "Requirement already satisfied: h11<0.15,>=0.13 in /home/ryutaro/.local/lib/python3.11/site-packages (from httpcore==1.*->httpx<1,>=0.23.0->anthropic<0.34.0,>=0.33.0->llmlinks) (0.14.0)\n",
      "Requirement already satisfied: annotated-types>=0.4.0 in /home/ryutaro/.local/lib/python3.11/site-packages (from pydantic<3,>=1.9.0->anthropic<0.34.0,>=0.33.0->llmlinks) (0.7.0)\n",
      "Requirement already satisfied: pydantic-core==2.20.1 in /home/ryutaro/.local/lib/python3.11/site-packages (from pydantic<3,>=1.9.0->anthropic<0.34.0,>=0.33.0->llmlinks) (2.20.1)\n",
      "Requirement already satisfied: huggingface-hub<1.0,>=0.16.4 in /home/ryutaro/.local/lib/python3.11/site-packages (from tokenizers>=0.13.0->anthropic<0.34.0,>=0.33.0->llmlinks) (0.24.6)\n",
      "Requirement already satisfied: httplib2<1.dev0,>=0.19.0 in /home/ryutaro/.local/lib/python3.11/site-packages (from google-api-python-client->google-generativeai<0.8.0,>=0.7.2->llmlinks) (0.22.0)\n",
      "Requirement already satisfied: google-auth-httplib2<1.0.0,>=0.2.0 in /home/ryutaro/.local/lib/python3.11/site-packages (from google-api-python-client->google-generativeai<0.8.0,>=0.7.2->llmlinks) (0.2.0)\n",
      "Requirement already satisfied: uritemplate<5,>=3.0.1 in /home/ryutaro/.local/lib/python3.11/site-packages (from google-api-python-client->google-generativeai<0.8.0,>=0.7.2->llmlinks) (4.1.1)\n",
      "Requirement already satisfied: grpcio<2.0dev,>=1.33.2 in /home/ryutaro/.local/lib/python3.11/site-packages (from google-api-core[grpc]!=2.0.*,!=2.1.*,!=2.10.*,!=2.2.*,!=2.3.*,!=2.4.*,!=2.5.*,!=2.6.*,!=2.7.*,!=2.8.*,!=2.9.*,<3.0.0dev,>=1.34.1->google-ai-generativelanguage==0.6.6->google-generativeai<0.8.0,>=0.7.2->llmlinks) (1.66.0)\n",
      "Requirement already satisfied: grpcio-status<2.0.dev0,>=1.33.2 in /home/ryutaro/.local/lib/python3.11/site-packages (from google-api-core[grpc]!=2.0.*,!=2.1.*,!=2.10.*,!=2.2.*,!=2.3.*,!=2.4.*,!=2.5.*,!=2.6.*,!=2.7.*,!=2.8.*,!=2.9.*,<3.0.0dev,>=1.34.1->google-ai-generativelanguage==0.6.6->google-generativeai<0.8.0,>=0.7.2->llmlinks) (1.62.3)\n",
      "Requirement already satisfied: pyparsing!=3.0.0,!=3.0.1,!=3.0.2,!=3.0.3,<4,>=2.4.2 in /home/ryutaro/.local/lib/python3.11/site-packages (from httplib2<1.dev0,>=0.19.0->google-api-python-client->google-generativeai<0.8.0,>=0.7.2->llmlinks) (3.0.9)\n",
      "Requirement already satisfied: filelock in /home/ryutaro/.local/lib/python3.11/site-packages (from huggingface-hub<1.0,>=0.16.4->tokenizers>=0.13.0->anthropic<0.34.0,>=0.33.0->llmlinks) (3.15.4)\n",
      "Requirement already satisfied: fsspec>=2023.5.0 in /home/ryutaro/.local/lib/python3.11/site-packages (from huggingface-hub<1.0,>=0.16.4->tokenizers>=0.13.0->anthropic<0.34.0,>=0.33.0->llmlinks) (2024.6.1)\n",
      "Requirement already satisfied: packaging>=20.9 in /home/ryutaro/.local/lib/python3.11/site-packages (from huggingface-hub<1.0,>=0.16.4->tokenizers>=0.13.0->anthropic<0.34.0,>=0.33.0->llmlinks) (23.1)\n",
      "Requirement already satisfied: pyyaml>=5.1 in /home/ryutaro/.local/lib/python3.11/site-packages (from huggingface-hub<1.0,>=0.16.4->tokenizers>=0.13.0->anthropic<0.34.0,>=0.33.0->llmlinks) (6.0)\n",
      "Requirement already satisfied: pyasn1<0.7.0,>=0.4.6 in /home/ryutaro/.local/lib/python3.11/site-packages (from pyasn1-modules>=0.2.1->google-auth>=2.15.0->google-generativeai<0.8.0,>=0.7.2->llmlinks) (0.6.0)\n",
      "Requirement already satisfied: charset-normalizer<4,>=2 in /home/ryutaro/.local/lib/python3.11/site-packages (from requests<3.0.0.dev0,>=2.18.0->google-api-core->google-generativeai<0.8.0,>=0.7.2->llmlinks) (3.1.0)\n",
      "Requirement already satisfied: urllib3<3,>=1.21.1 in /home/ryutaro/.local/lib/python3.11/site-packages (from requests<3.0.0.dev0,>=2.18.0->google-api-core->google-generativeai<0.8.0,>=0.7.2->llmlinks) (2.0.2)\n",
      "Note: you may need to restart the kernel to use updated packages.\n"
     ]
    }
   ],
   "source": [
    "%pip install --upgrade llmlinks"
   ]
  },
  {
   "cell_type": "code",
   "execution_count": 3,
   "metadata": {},
   "outputs": [],
   "source": [
    "from llmlinks.link import LLMLink\n",
    "from llmlinks.llm_client import LLMClient"
   ]
  },
  {
   "cell_type": "code",
   "execution_count": 4,
   "metadata": {},
   "outputs": [
    {
     "name": "stdout",
     "output_type": "stream",
     "text": [
      "こんにちは！今日はどのようにお手伝いできますか？\n"
     ]
    }
   ],
   "source": [
    "#llm_name = 'claude-3-5-sonnet-20240620'\n",
    "llm_name = 'gpt-4o-2024-08-06'\n",
    "#llm_name = 'gemini-1.5-pro'\n",
    "\n",
    "llm = LLMClient(llm_name)\n",
    "response = llm('こんにちわ')\n",
    "print(response)"
   ]
  },
  {
   "cell_type": "code",
   "execution_count": 5,
   "metadata": {},
   "outputs": [],
   "source": [
    "prompt_template = '''\n",
    "<source_text>\n",
    "{source}\n",
    "</source_text>\n",
    "\n",
    "<target_language>\n",
    "{language}\n",
    "</target_language>\n",
    "\n",
    "<rule>\n",
    "source_text タグで与えられた文章を target_language で指定された言語に翻訳して output タグを用いて出力せよ．\n",
    "</rule>\n",
    "'''.strip()"
   ]
  },
  {
   "cell_type": "code",
   "execution_count": 6,
   "metadata": {},
   "outputs": [
    {
     "data": {
      "text/plain": [
       "{'output': ['こんにちは、世界!!']}"
      ]
     },
     "execution_count": 6,
     "metadata": {},
     "output_type": "execute_result"
    }
   ],
   "source": [
    "func = LLMLink(\n",
    "    llm, \n",
    "    prompt_template=prompt_template,\n",
    "    input_variables=['source', 'language'],\n",
    "    output_variables=['output']\n",
    "    )\n",
    "\n",
    "func(source='Hello World!!', language='japanese')"
   ]
  },
  {
   "cell_type": "code",
   "execution_count": null,
   "metadata": {},
   "outputs": [],
   "source": []
  }
 ],
 "metadata": {
  "kernelspec": {
   "display_name": "Python 3 (ipykernel)",
   "language": "python",
   "name": "python3"
  },
  "language_info": {
   "codemirror_mode": {
    "name": "ipython",
    "version": 3
   },
   "file_extension": ".py",
   "mimetype": "text/x-python",
   "name": "python",
   "nbconvert_exporter": "python",
   "pygments_lexer": "ipython3",
   "version": "3.11.3"
  }
 },
 "nbformat": 4,
 "nbformat_minor": 4
}
